{
 "cells": [
  {
   "cell_type": "markdown",
   "metadata": {},
   "source": [
    "# Exercise 3: Image generation"
   ]
  },
  {
   "cell_type": "code",
   "execution_count": 2,
   "metadata": {},
   "outputs": [],
   "source": [
    "from torch import nn\n",
    "import torch\n",
    "import torchvision\n",
    "from torchvision.datasets import MNIST\n",
    "from torch.utils.data import DataLoader\n",
    "\n",
    "# Uncomment the device you want to use\n",
    "device = 'cpu'\n",
    "# device = 'cuda'\n",
    "# device = 'mps'"
   ]
  },
  {
   "cell_type": "markdown",
   "metadata": {},
   "source": [
    "## Data loading"
   ]
  },
  {
   "cell_type": "code",
   "execution_count": 3,
   "metadata": {},
   "outputs": [
    {
     "name": "stdout",
     "output_type": "stream",
     "text": [
      "Downloading http://yann.lecun.com/exdb/mnist/train-images-idx3-ubyte.gz\n",
      "Failed to download (trying next):\n",
      "HTTP Error 403: Forbidden\n",
      "\n",
      "Downloading https://ossci-datasets.s3.amazonaws.com/mnist/train-images-idx3-ubyte.gz\n",
      "Downloading https://ossci-datasets.s3.amazonaws.com/mnist/train-images-idx3-ubyte.gz to ./data/MNIST/raw/train-images-idx3-ubyte.gz\n"
     ]
    },
    {
     "name": "stderr",
     "output_type": "stream",
     "text": [
      "100%|██████████| 9912422/9912422 [00:11<00:00, 880893.37it/s] \n"
     ]
    },
    {
     "name": "stdout",
     "output_type": "stream",
     "text": [
      "Extracting ./data/MNIST/raw/train-images-idx3-ubyte.gz to ./data/MNIST/raw\n",
      "\n",
      "Downloading http://yann.lecun.com/exdb/mnist/train-labels-idx1-ubyte.gz\n",
      "Failed to download (trying next):\n",
      "HTTP Error 403: Forbidden\n",
      "\n",
      "Downloading https://ossci-datasets.s3.amazonaws.com/mnist/train-labels-idx1-ubyte.gz\n",
      "Downloading https://ossci-datasets.s3.amazonaws.com/mnist/train-labels-idx1-ubyte.gz to ./data/MNIST/raw/train-labels-idx1-ubyte.gz\n"
     ]
    },
    {
     "name": "stderr",
     "output_type": "stream",
     "text": [
      "100%|██████████| 28881/28881 [00:00<00:00, 215584.60it/s]\n"
     ]
    },
    {
     "name": "stdout",
     "output_type": "stream",
     "text": [
      "Extracting ./data/MNIST/raw/train-labels-idx1-ubyte.gz to ./data/MNIST/raw\n",
      "\n",
      "Downloading http://yann.lecun.com/exdb/mnist/t10k-images-idx3-ubyte.gz\n",
      "Failed to download (trying next):\n",
      "HTTP Error 403: Forbidden\n",
      "\n",
      "Downloading https://ossci-datasets.s3.amazonaws.com/mnist/t10k-images-idx3-ubyte.gz\n",
      "Downloading https://ossci-datasets.s3.amazonaws.com/mnist/t10k-images-idx3-ubyte.gz to ./data/MNIST/raw/t10k-images-idx3-ubyte.gz\n"
     ]
    },
    {
     "name": "stderr",
     "output_type": "stream",
     "text": [
      "100%|██████████| 1648877/1648877 [00:01<00:00, 1147099.28it/s]\n"
     ]
    },
    {
     "name": "stdout",
     "output_type": "stream",
     "text": [
      "Extracting ./data/MNIST/raw/t10k-images-idx3-ubyte.gz to ./data/MNIST/raw\n",
      "\n",
      "Downloading http://yann.lecun.com/exdb/mnist/t10k-labels-idx1-ubyte.gz\n",
      "Failed to download (trying next):\n",
      "HTTP Error 403: Forbidden\n",
      "\n",
      "Downloading https://ossci-datasets.s3.amazonaws.com/mnist/t10k-labels-idx1-ubyte.gz\n",
      "Downloading https://ossci-datasets.s3.amazonaws.com/mnist/t10k-labels-idx1-ubyte.gz to ./data/MNIST/raw/t10k-labels-idx1-ubyte.gz\n"
     ]
    },
    {
     "name": "stderr",
     "output_type": "stream",
     "text": [
      "100%|██████████| 4542/4542 [00:00<00:00, 3998012.33it/s]"
     ]
    },
    {
     "name": "stdout",
     "output_type": "stream",
     "text": [
      "Extracting ./data/MNIST/raw/t10k-labels-idx1-ubyte.gz to ./data/MNIST/raw\n",
      "\n"
     ]
    },
    {
     "name": "stderr",
     "output_type": "stream",
     "text": [
      "\n"
     ]
    }
   ],
   "source": [
    "transform = torchvision.transforms.Compose([torchvision.transforms.ToTensor()])\n",
    "\n",
    "train_classification_dataset = MNIST(\n",
    "    \"./data\", download=True, transform=transform, train=True\n",
    ")\n",
    "train_classification_loader = DataLoader(\n",
    "    train_classification_dataset, batch_size=64, shuffle=True\n",
    ")\n",
    "\n",
    "validation_classification_dataset = MNIST(\n",
    "    \"./data\", download=True, transform=transform, train=False\n",
    ")\n",
    "validation_classification_loader = DataLoader(\n",
    "    validation_classification_dataset, batch_size=64, shuffle=False\n",
    ")"
   ]
  },
  {
   "cell_type": "markdown",
   "metadata": {},
   "source": [
    "## Base model definition"
   ]
  },
  {
   "cell_type": "code",
   "execution_count": 4,
   "metadata": {},
   "outputs": [],
   "source": [
    "class GenerationModel(nn.Module):\n",
    "    def __init__(self, hidden_size=8, channels=1, size=(28, 28)):\n",
    "        super(GenerationModel, self).__init__()\n",
    "        self.hidden_size = hidden_size\n",
    "        self.encoder = nn.Sequential(\n",
    "            nn.Flatten(),\n",
    "            nn.Linear(channels * size[0] * size[1], 256),\n",
    "            nn.SiLU(),\n",
    "            nn.Linear(256, hidden_size),\n",
    "            nn.SiLU(),\n",
    "        )\n",
    "        self.mu = nn.Linear(hidden_size, hidden_size)\n",
    "        self.logvar = nn.Linear(hidden_size, hidden_size)\n",
    "        self.decoder = nn.Sequential(\n",
    "            nn.Linear(hidden_size, 256),\n",
    "            nn.SiLU(),\n",
    "            nn.Linear(256, channels * size[0] * size[1]),\n",
    "            nn.Sigmoid(),\n",
    "            nn.Unflatten(1, (channels, size[0], size[1])),\n",
    "        )\n",
    "\n",
    "    def reparameterize(self, mu, logvar):\n",
    "        std = torch.exp(0.5 * logvar)\n",
    "        eps = torch.randn_like(std)\n",
    "        return mu + eps * std\n",
    "\n",
    "    def encode(self, x):\n",
    "        x = self.encoder(x)\n",
    "        mu = self.mu(x)\n",
    "        logvar = self.logvar(x)\n",
    "        return mu, logvar\n",
    "\n",
    "    def decode(self, z):\n",
    "        return self.decoder(z)\n",
    "\n",
    "    def forward(self, x):\n",
    "        mu, logvar = self.encode(x)\n",
    "        z = self.reparameterize(mu, logvar)\n",
    "        return self.decode(z), mu, logvar"
   ]
  },
  {
   "cell_type": "markdown",
   "metadata": {},
   "source": [
    "### PSNR metric"
   ]
  },
  {
   "cell_type": "code",
   "execution_count": 5,
   "metadata": {},
   "outputs": [],
   "source": [
    "# TODO: Reuse this function from exercise 2\n",
    "import torch.nn.functional as F\n",
    "\n",
    "def psnr(y_pred, y):\n",
    "    mse = F.mse_loss(y_pred, y)\n",
    "    if mse == 0:\n",
    "        return float('inf')\n",
    "    max_pixel = 1.0  # Since the images are normalized to [0, 1]\n",
    "    psnr_value = 20 * torch.log10(max_pixel / torch.sqrt(mse))\n",
    "    return psnr_value.item()"
   ]
  },
  {
   "cell_type": "markdown",
   "metadata": {},
   "source": [
    "### SSIM metric"
   ]
  },
  {
   "cell_type": "code",
   "execution_count": 7,
   "metadata": {},
   "outputs": [],
   "source": [
    "# TODO: Reuse this function from exercise 2\n",
    "import torch\n",
    "import torch.nn.functional as F\n",
    "import numpy as np\n",
    "\n",
    "def gaussian(window_size, sigma):\n",
    "    gauss = torch.tensor([np.exp(-(x - window_size // 2) ** 2 / (2 * sigma ** 2)) for x in range(window_size)])\n",
    "    return gauss / gauss.sum()\n",
    "\n",
    "def create_window(window_size, channel):\n",
    "    _1D_window = gaussian(window_size, 1.5).unsqueeze(1)\n",
    "    _2D_window = _1D_window.mm(_1D_window.t()).float().unsqueeze(0).unsqueeze(0)\n",
    "    window = _2D_window.expand(channel, 1, window_size, window_size).contiguous()\n",
    "    return window\n",
    "\n",
    "def ssim(y_pred, y, window_size=11, C1=np.square(0.01), C2=np.square(0.032)):\n",
    "    channel = y.size(1)\n",
    "    window = create_window(window_size, channel).to(y.device)\n",
    "    \n",
    "    mu1 = F.conv2d(y_pred, window, padding=window_size//2, groups=channel)\n",
    "    mu2 = F.conv2d(y, window, padding=window_size//2, groups=channel)\n",
    "    \n",
    "    mu1_sq = mu1 ** 2\n",
    "    mu2_sq = mu2 ** 2\n",
    "    mu1_mu2 = mu1 * mu2\n",
    "    \n",
    "    sigma1_sq = F.conv2d(y_pred * y_pred, window, padding=window_size//2, groups=channel) - mu1_sq\n",
    "    sigma2_sq = F.conv2d(y * y, window, padding=window_size//2, groups=channel) - mu2_sq\n",
    "    sigma12 = F.conv2d(y_pred * y, window, padding=window_size//2, groups=channel) - mu1_mu2\n",
    "    \n",
    "    ssim_map = ((2 * mu1_mu2 + C1) * (2 * sigma12 + C2)) / ((mu1_sq + mu2_sq + C1) * (sigma1_sq + sigma2_sq + C2))\n",
    "    return ssim_map.mean()"
   ]
  },
  {
   "cell_type": "markdown",
   "metadata": {},
   "source": [
    "## Base model trainer"
   ]
  },
  {
   "cell_type": "code",
   "execution_count": 8,
   "metadata": {},
   "outputs": [],
   "source": [
    "def ssim_and_psnr(y_pred, y):\n",
    "    return ssim(y_pred, y), psnr(y_pred, y)\n",
    "\n",
    "\n",
    "def loss_function(recon_x, x, mu, logvar):\n",
    "    MSE = nn.functional.mse_loss(recon_x, x, reduction=\"sum\")\n",
    "    KLD = -0.5 * torch.sum((1 + logvar - mu.pow(2) - logvar.exp()))\n",
    "    return MSE + KLD\n",
    "\n",
    "def trainer(model, epochs, train_loader, val_loader):\n",
    "    optimizer = torch.optim.Adam(model.parameters())\n",
    "    for epoch in range(epochs):\n",
    "        model.train()\n",
    "        total_loss = 0\n",
    "        for i, (x, _) in enumerate(train_loader):\n",
    "            x = x.to(device)\n",
    "            optimizer.zero_grad()\n",
    "            y_pred, mu, logvar = model(x)\n",
    "            loss = loss_function(y_pred, x, mu, logvar)\n",
    "            total_loss += loss.item()\n",
    "            loss.backward()\n",
    "            optimizer.step()\n",
    "        print(f\"Epoch: {epoch}, Loss: {total_loss/len(train_loader)}\")\n",
    "\n",
    "        model.eval()\n",
    "        with torch.no_grad():\n",
    "            psnr_metrics, ssim_metrics = 0, 0\n",
    "            for i, (x, _) in enumerate(val_loader):\n",
    "                x = x.to(device)\n",
    "                y_pred, _, _ = model(x)\n",
    "                metrics = ssim_and_psnr(y_pred, x)\n",
    "                ssim_metrics += metrics[0]\n",
    "                psnr_metrics += metrics[1]\n",
    "            print(\n",
    "                f\"Epoch: {epoch}, SSIM: {ssim_metrics/len(val_loader)}, PSNR: {psnr_metrics/len(val_loader)}\"\n",
    "            )"
   ]
  },
  {
   "cell_type": "code",
   "execution_count": 9,
   "metadata": {},
   "outputs": [
    {
     "name": "stderr",
     "output_type": "stream",
     "text": [
      "/home/kaplank/.local/lib/python3.8/site-packages/torch/autograd/__init__.py:200: UserWarning: CUDA initialization: CUDA unknown error - this may be due to an incorrectly set up environment, e.g. changing env variable CUDA_VISIBLE_DEVICES after program start. Setting the available devices to be zero. (Triggered internally at ../c10/cuda/CUDAFunctions.cpp:109.)\n",
      "  Variable._execution_engine.run_backward(  # Calls into the C++ engine to run the backward pass\n"
     ]
    },
    {
     "name": "stdout",
     "output_type": "stream",
     "text": [
      "Epoch: 0, Loss: 3255.569258504839\n",
      "Epoch: 0, SSIM: 0.44274988770484924, PSNR: 12.920056130476059\n",
      "Epoch: 1, Loss: 2711.4349151806537\n",
      "Epoch: 1, SSIM: 0.5309770107269287, PSNR: 13.390639037842963\n",
      "Epoch: 2, Loss: 2522.6943656091753\n",
      "Epoch: 2, SSIM: 0.5882514119148254, PSNR: 13.787783580221188\n",
      "Epoch: 3, Loss: 2415.8936836551757\n",
      "Epoch: 3, SSIM: 0.614273190498352, PSNR: 14.01252846201514\n",
      "Epoch: 4, Loss: 2354.0123484922624\n",
      "Epoch: 4, SSIM: 0.6293957829475403, PSNR: 14.16926547372417\n",
      "Epoch: 5, Loss: 2315.8722398835203\n",
      "Epoch: 5, SSIM: 0.6379048228263855, PSNR: 14.218764456973714\n",
      "Epoch: 6, Loss: 2289.724544175398\n",
      "Epoch: 6, SSIM: 0.6475529670715332, PSNR: 14.309680835456605\n",
      "Epoch: 7, Loss: 2264.881773340677\n",
      "Epoch: 7, SSIM: 0.6571800708770752, PSNR: 14.379769464966598\n",
      "Epoch: 8, Loss: 2243.0367660685133\n",
      "Epoch: 8, SSIM: 0.6613221764564514, PSNR: 14.435572344786042\n",
      "Epoch: 9, Loss: 2221.2612767982077\n",
      "Epoch: 9, SSIM: 0.6692090630531311, PSNR: 14.485701160066446\n",
      "Epoch: 10, Loss: 2203.8858714154535\n",
      "Epoch: 10, SSIM: 0.6720268130302429, PSNR: 14.551178336902789\n",
      "Epoch: 11, Loss: 2188.9569046248253\n",
      "Epoch: 11, SSIM: 0.6768418550491333, PSNR: 14.600103001685659\n",
      "Epoch: 12, Loss: 2175.716177934268\n",
      "Epoch: 12, SSIM: 0.6769015789031982, PSNR: 14.611515415701897\n",
      "Epoch: 13, Loss: 2164.4822789824593\n",
      "Epoch: 13, SSIM: 0.6822225451469421, PSNR: 14.657959537141641\n",
      "Epoch: 14, Loss: 2155.5550360120437\n",
      "Epoch: 14, SSIM: 0.681627094745636, PSNR: 14.672556148213186\n",
      "Epoch: 15, Loss: 2146.3521758447578\n",
      "Epoch: 15, SSIM: 0.6886702179908752, PSNR: 14.703153282214123\n",
      "Epoch: 16, Loss: 2136.960094329899\n",
      "Epoch: 16, SSIM: 0.6887946724891663, PSNR: 14.728105545043945\n",
      "Epoch: 17, Loss: 2130.056719098772\n",
      "Epoch: 17, SSIM: 0.6900594830513, PSNR: 14.748880732590985\n",
      "Epoch: 18, Loss: 2122.719914613248\n",
      "Epoch: 18, SSIM: 0.6933594346046448, PSNR: 14.787294199512264\n",
      "Epoch: 19, Loss: 2117.8874779804937\n",
      "Epoch: 19, SSIM: 0.6922400593757629, PSNR: 14.762863651202743\n",
      "Epoch: 20, Loss: 2112.7232360839844\n",
      "Epoch: 20, SSIM: 0.6945286989212036, PSNR: 14.802057685366101\n",
      "Epoch: 21, Loss: 2107.62916431549\n",
      "Epoch: 21, SSIM: 0.6929559111595154, PSNR: 14.814373757429184\n",
      "Epoch: 22, Loss: 2102.5661597668745\n",
      "Epoch: 22, SSIM: 0.6971835494041443, PSNR: 14.842419940195265\n",
      "Epoch: 23, Loss: 2096.8237718529285\n",
      "Epoch: 23, SSIM: 0.6979960799217224, PSNR: 14.831801092548735\n",
      "Epoch: 24, Loss: 2093.8030703937065\n",
      "Epoch: 24, SSIM: 0.6999393701553345, PSNR: 14.852775276086891\n",
      "Epoch: 25, Loss: 2089.7541313252723\n",
      "Epoch: 25, SSIM: 0.6989497542381287, PSNR: 14.864194141072073\n",
      "Epoch: 26, Loss: 2086.1581375349815\n",
      "Epoch: 26, SSIM: 0.6998275518417358, PSNR: 14.873916249366323\n",
      "Epoch: 27, Loss: 2081.9178181792627\n",
      "Epoch: 27, SSIM: 0.6999603509902954, PSNR: 14.865283261438844\n",
      "Epoch: 28, Loss: 2079.2706370404535\n",
      "Epoch: 28, SSIM: 0.7027742862701416, PSNR: 14.87951819911884\n",
      "Epoch: 29, Loss: 2075.546089351304\n",
      "Epoch: 29, SSIM: 0.7036702632904053, PSNR: 14.893205162825858\n"
     ]
    }
   ],
   "source": [
    "model = GenerationModel().to(device)\n",
    "trainer(model, 30, train_classification_loader, validation_classification_loader)"
   ]
  },
  {
   "cell_type": "markdown",
   "metadata": {},
   "source": [
    "## Conditional model definition "
   ]
  },
  {
   "cell_type": "code",
   "execution_count": 10,
   "metadata": {},
   "outputs": [],
   "source": [
    "class ConditionalGenerationModel(GenerationModel):\n",
    "    def __init__(self, hidden_size=8, channels=1, size=(28, 28), n_classes=10):\n",
    "        super(ConditionalGenerationModel, self).__init__(hidden_size, channels, size)\n",
    "        self.label_embedding = nn.Embedding(n_classes, hidden_size)\n",
    "\n",
    "    def forward(self, x, labels):\n",
    "        mu, logvar = self.encode(x)\n",
    "        z = self.reparameterize(mu, logvar)\n",
    "        label_embedding = self.label_embedding(labels)\n",
    "        z += label_embedding\n",
    "        return self.decode(z), mu, logvar\n",
    "    \n",
    "\n",
    "def generate_images(model, digit, n_images=5):\n",
    "    model.eval()\n",
    "    with torch.no_grad():\n",
    "        labels = torch.tensor([digit] * n_images).to(device)\n",
    "        z = torch.randn(n_images, model.hidden_size).to(device)\n",
    "        z += model.label_embedding(labels)\n",
    "        generated_images = model.decode(z).cpu()\n",
    "    return generated_images"
   ]
  },
  {
   "cell_type": "markdown",
   "metadata": {},
   "source": [
    "## Conditional model trainer"
   ]
  },
  {
   "cell_type": "code",
   "execution_count": 11,
   "metadata": {},
   "outputs": [],
   "source": [
    "def conditional_trainer(model, epochs, train_loader, val_loader):\n",
    "    optimizer = torch.optim.Adam(model.parameters())\n",
    "    for epoch in range(epochs):\n",
    "        model.train()\n",
    "        total_loss = 0\n",
    "        for i, (x, label) in enumerate(train_loader):\n",
    "            x = x.to(device)\n",
    "            label = label.to(device)\n",
    "            optimizer.zero_grad()\n",
    "            y_pred, mu, logvar = model(x, label)\n",
    "            loss = loss_function(y_pred, x, mu, logvar)\n",
    "            total_loss += loss.item()\n",
    "            loss.backward()\n",
    "            optimizer.step()\n",
    "        print(f\"Epoch: {epoch}, Loss: {total_loss/len(train_loader)}\")\n",
    "\n",
    "        model.eval()\n",
    "        with torch.no_grad():\n",
    "            psnr_metrics, ssim_metrics = 0, 0\n",
    "            for i, (x, label) in enumerate(val_loader):\n",
    "                x = x.to(device)\n",
    "                label = label.to(device)\n",
    "                y_pred, _, _ = model(x, label)\n",
    "                metrics = ssim_and_psnr(y_pred, x)\n",
    "                ssim_metrics += metrics[0]\n",
    "                psnr_metrics += metrics[1]\n",
    "            print(\n",
    "                f\"Epoch: {epoch}, SSIM: {ssim_metrics/len(val_loader)}, PSNR: {psnr_metrics/len(val_loader)}\"\n",
    "            )"
   ]
  },
  {
   "cell_type": "code",
   "execution_count": 12,
   "metadata": {},
   "outputs": [
    {
     "name": "stdout",
     "output_type": "stream",
     "text": [
      "Epoch: 0, Loss: 2850.185203828791\n",
      "Epoch: 0, SSIM: 0.5745362043380737, PSNR: 13.944710840844804\n",
      "Epoch: 1, Loss: 2249.7979299061335\n",
      "Epoch: 1, SSIM: 0.6419559717178345, PSNR: 14.466820893014313\n",
      "Epoch: 2, Loss: 2141.2476206700176\n",
      "Epoch: 2, SSIM: 0.6664895415306091, PSNR: 14.709981559947797\n",
      "Epoch: 3, Loss: 2081.0248735830473\n",
      "Epoch: 3, SSIM: 0.6848292946815491, PSNR: 14.815937777233732\n",
      "Epoch: 4, Loss: 2037.3373026573327\n",
      "Epoch: 4, SSIM: 0.6881047487258911, PSNR: 14.920872821929349\n",
      "Epoch: 5, Loss: 2002.1061932334005\n",
      "Epoch: 5, SSIM: 0.698045551776886, PSNR: 15.0517999685494\n",
      "Epoch: 6, Loss: 1971.928538633562\n",
      "Epoch: 6, SSIM: 0.7060126662254333, PSNR: 15.130541430916756\n",
      "Epoch: 7, Loss: 1946.6310729329773\n",
      "Epoch: 7, SSIM: 0.7204355001449585, PSNR: 15.241804803252979\n",
      "Epoch: 8, Loss: 1923.3740944933536\n",
      "Epoch: 8, SSIM: 0.7204921245574951, PSNR: 15.252700854258933\n",
      "Epoch: 9, Loss: 1904.8366580792328\n",
      "Epoch: 9, SSIM: 0.7252445816993713, PSNR: 15.349177974044897\n",
      "Epoch: 10, Loss: 1890.5990993605494\n",
      "Epoch: 10, SSIM: 0.7266528010368347, PSNR: 15.367753502669608\n",
      "Epoch: 11, Loss: 1876.4296527529068\n",
      "Epoch: 11, SSIM: 0.7320061922073364, PSNR: 15.394287194416021\n",
      "Epoch: 12, Loss: 1862.2705752244635\n",
      "Epoch: 12, SSIM: 0.7363088726997375, PSNR: 15.482692493754588\n",
      "Epoch: 13, Loss: 1852.093535791328\n",
      "Epoch: 13, SSIM: 0.7363295555114746, PSNR: 15.515759613863223\n",
      "Epoch: 14, Loss: 1841.8565991367104\n",
      "Epoch: 14, SSIM: 0.7355363965034485, PSNR: 15.489655658697627\n",
      "Epoch: 15, Loss: 1832.5079632008762\n",
      "Epoch: 15, SSIM: 0.7394387722015381, PSNR: 15.568642318628395\n",
      "Epoch: 16, Loss: 1822.8166371164546\n",
      "Epoch: 16, SSIM: 0.7434423565864563, PSNR: 15.597071908841468\n",
      "Epoch: 17, Loss: 1814.5090371723622\n",
      "Epoch: 17, SSIM: 0.7447158694267273, PSNR: 15.603329524872409\n",
      "Epoch: 18, Loss: 1806.9918148471857\n",
      "Epoch: 18, SSIM: 0.7440582513809204, PSNR: 15.637267094508857\n",
      "Epoch: 19, Loss: 1802.1384385359058\n",
      "Epoch: 19, SSIM: 0.7479965686798096, PSNR: 15.674985430043215\n",
      "Epoch: 20, Loss: 1794.614287484175\n",
      "Epoch: 20, SSIM: 0.7491961717605591, PSNR: 15.696839150349806\n",
      "Epoch: 21, Loss: 1788.2905718512627\n",
      "Epoch: 21, SSIM: 0.7497093677520752, PSNR: 15.706076172506734\n",
      "Epoch: 22, Loss: 1782.6303684909715\n",
      "Epoch: 22, SSIM: 0.7506284117698669, PSNR: 15.713279371808289\n",
      "Epoch: 23, Loss: 1776.9991464838545\n",
      "Epoch: 23, SSIM: 0.7514118552207947, PSNR: 15.689533361204111\n",
      "Epoch: 24, Loss: 1773.5211116571163\n",
      "Epoch: 24, SSIM: 0.7535451650619507, PSNR: 15.751160536602045\n",
      "Epoch: 25, Loss: 1767.887907829366\n",
      "Epoch: 25, SSIM: 0.7552696466445923, PSNR: 15.807723950428567\n",
      "Epoch: 26, Loss: 1763.645256514234\n",
      "Epoch: 26, SSIM: 0.7567172646522522, PSNR: 15.794261555762807\n",
      "Epoch: 27, Loss: 1758.3584348763993\n",
      "Epoch: 27, SSIM: 0.7531536221504211, PSNR: 15.773242513085627\n",
      "Epoch: 28, Loss: 1754.5270458619987\n",
      "Epoch: 28, SSIM: 0.7574057579040527, PSNR: 15.813860796059773\n",
      "Epoch: 29, Loss: 1750.5537724281426\n",
      "Epoch: 29, SSIM: 0.7586089968681335, PSNR: 15.811274492057265\n"
     ]
    },
    {
     "data": {
      "image/png": "[encoded data removed]",
      "text/plain": [
       "<Figure size 1500x300 with 5 Axes>"
      ]
     },
     "metadata": {},
     "output_type": "display_data"
    },
    {
     "data": {
      "image/png": "[encoded data removed]",
      "text/plain": [
       "<Figure size 1500x300 with 5 Axes>"
      ]
     },
     "metadata": {},
     "output_type": "display_data"
    },
    {
     "data": {
      "image/png": "[encoded data removed]",
      "text/plain": [
       "<Figure size 1500x300 with 5 Axes>"
      ]
     },
     "metadata": {},
     "output_type": "display_data"
    }
   ],
   "source": [
    "conditional_model = ConditionalGenerationModel(n_classes=10).to(device)\n",
    "conditional_trainer(\n",
    "    conditional_model, 30, train_classification_loader, validation_classification_loader\n",
    ")\n"
   ]
  },
  {
   "cell_type": "code",
   "execution_count": 13,
   "metadata": {},
   "outputs": [
    {
     "data": {
      "image/png": "[encoded data removed]",
      "text/plain": [
       "<Figure size 1500x300 with 5 Axes>"
      ]
     },
     "metadata": {},
     "output_type": "display_data"
    },
    {
     "data": {
      "image/png": "[encoded data removed]",
      "text/plain": [
       "<Figure size 1500x300 with 5 Axes>"
      ]
     },
     "metadata": {},
     "output_type": "display_data"
    },
    {
     "data": {
      "image/png": "[encoded data removed]",
      "text/plain": [
       "<Figure size 1500x300 with 5 Axes>"
      ]
     },
     "metadata": {},
     "output_type": "display_data"
    }
   ],
   "source": [
    "digits_to_generate = [4, 2, 9]\n",
    "n_images_per_digit = 5\n",
    "\n",
    "import matplotlib.pyplot as plt\n",
    "\n",
    "for digit in digits_to_generate:\n",
    "    generated_images = generate_images(conditional_model, digit, n_images_per_digit)\n",
    "    fig, axes = plt.subplots(1, n_images_per_digit, figsize=(15, 3))\n",
    "    for i, img in enumerate(generated_images):\n",
    "        axes[i].imshow(img.squeeze(0), cmap='gray')\n",
    "        axes[i].axis('off')\n",
    "    plt.show()"
   ]
  },
  {
   "cell_type": "code",
   "execution_count": null,
   "metadata": {},
   "outputs": [],
   "source": []
  }
 ],
 "metadata": {
  "kernelspec": {
   "display_name": "Python 3",
   "language": "python",
   "name": "python3"
  },
  "language_info": {
   "codemirror_mode": {
    "name": "ipython",
    "version": 3
   },
   "file_extension": ".py",
   "mimetype": "text/x-python",
   "name": "python",
   "nbconvert_exporter": "python",
   "pygments_lexer": "ipython3",
   "version": "3.8.10"
  }
 },
 "nbformat": 4,
 "nbformat_minor": 2
}
