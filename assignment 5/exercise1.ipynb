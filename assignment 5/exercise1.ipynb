{
  "cells": [
    {
      "cell_type": "markdown",
      "metadata": {
        "id": "n4XTOrwfiECq"
      },
      "source": [
        "# Exercise 1: Image classification"
      ]
    },
    {
      "cell_type": "code",
      "execution_count": null,
      "metadata": {
        "id": "IKKMBCFsiECs"
      },
      "outputs": [],
      "source": [
        "from torch import nn\n",
        "import torch\n",
        "import torchvision\n",
        "from torchvision.datasets import CIFAR10\n",
        "from torch.utils.data import DataLoader\n",
        "\n",
        "# Uncomment the device you want to use\n",
        "# device = 'cpu'\n",
        "device = 'cuda'\n",
        "# device = 'mps'"
      ]
    },
    {
      "cell_type": "markdown",
      "metadata": {
        "id": "8n7rcSYwiECt"
      },
      "source": [
        "## Model definition"
      ]
    },
    {
      "cell_type": "code",
      "execution_count": null,
      "metadata": {
        "id": "vHXHMfm0iECu"
      },
      "outputs": [],
      "source": [
        "class ClassificationModel(nn.Module):\n",
        "    def __init__(self, num_classes):\n",
        "        super(ClassificationModel, self).__init__()\n",
        "        # CIFAR 3 in channel\n",
        "        self.conv1 = nn.Conv2d(in_channels=3, out_channels=32, kernel_size=3, padding=1)\n",
        "        self.relu1 = nn.ReLU()\n",
        "        self.pool1 = nn.MaxPool2d(kernel_size=2)\n",
        "\n",
        "        self.conv2 = nn.Conv2d(in_channels=32, out_channels=64, kernel_size=3, padding=1)\n",
        "        self.relu2 = nn.ReLU()\n",
        "        self.pool2 = nn.MaxPool2d(kernel_size=2)\n",
        "\n",
        "        self.conv3 = nn.Conv2d(in_channels=64, out_channels=128, kernel_size=3, padding=1)\n",
        "        self.relu3 = nn.ReLU()\n",
        "        self.pool3 = nn.MaxPool2d(kernel_size=2)\n",
        "\n",
        "        self.flatten = nn.Flatten()\n",
        "\n",
        "        self.fc1 = nn.Linear(128 * 4 * 4, 128)\n",
        "        self.relu4 = nn.ReLU()\n",
        "\n",
        "        self.fc2 = nn.Linear(128, num_classes)\n",
        "\n",
        "    def forward(self, x):\n",
        "        x = self.conv1(x)\n",
        "        x = self.relu1(x)\n",
        "        x = self.pool1(x)\n",
        "\n",
        "        x = self.conv2(x)\n",
        "        x = self.relu2(x)\n",
        "        x = self.pool2(x)\n",
        "\n",
        "        x = self.conv3(x)\n",
        "        x = self.relu3(x)\n",
        "        x = self.pool3(x)\n",
        "\n",
        "        # Flatten to 1d vector to prepare for classification task (e.g. 10 classes in CIFAR)\n",
        "        x = self.flatten(x)\n",
        "\n",
        "        x = self.fc1(x)\n",
        "        x = self.relu4(x)\n",
        "\n",
        "        x = self.fc2(x)\n",
        "\n",
        "        return x\n",
        "\n",
        "\n"
      ]
    },
    {
      "cell_type": "code",
      "execution_count": null,
      "metadata": {
        "colab": {
          "base_uri": "https://localhost:8080/"
        },
        "id": "1zm3qWzliECu",
        "outputId": "24c16bdb-5e4e-4f22-9dae-3d774db0c27c"
      },
      "outputs": [
        {
          "output_type": "stream",
          "name": "stdout",
          "text": [
            "ClassificationModel(\n",
            "  (conv1): Conv2d(3, 32, kernel_size=(3, 3), stride=(1, 1), padding=(1, 1))\n",
            "  (relu1): ReLU()\n",
            "  (pool1): MaxPool2d(kernel_size=2, stride=2, padding=0, dilation=1, ceil_mode=False)\n",
            "  (conv2): Conv2d(32, 64, kernel_size=(3, 3), stride=(1, 1), padding=(1, 1))\n",
            "  (relu2): ReLU()\n",
            "  (pool2): MaxPool2d(kernel_size=2, stride=2, padding=0, dilation=1, ceil_mode=False)\n",
            "  (conv3): Conv2d(64, 128, kernel_size=(3, 3), stride=(1, 1), padding=(1, 1))\n",
            "  (relu3): ReLU()\n",
            "  (pool3): MaxPool2d(kernel_size=2, stride=2, padding=0, dilation=1, ceil_mode=False)\n",
            "  (flatten): Flatten(start_dim=1, end_dim=-1)\n",
            "  (fc1): Linear(in_features=2048, out_features=128, bias=True)\n",
            "  (relu4): ReLU()\n",
            "  (fc2): Linear(in_features=128, out_features=10, bias=True)\n",
            ")\n",
            "torch.Size([64, 10])\n"
          ]
        }
      ],
      "source": [
        "# Test if model is working with dummy input\n",
        "model = ClassificationModel(10)\n",
        "print(model)\n",
        "x = torch.randn(64,3,32,32)\n",
        "print(model(x).shape)"
      ]
    },
    {
      "cell_type": "markdown",
      "metadata": {
        "id": "toHhWRvDiECv"
      },
      "source": [
        "## Functions for model training and evaluation\n",
        "### Don't edit the code in the cell below!"
      ]
    },
    {
      "cell_type": "code",
      "execution_count": null,
      "metadata": {
        "id": "thzGGDQtiECv"
      },
      "outputs": [],
      "source": [
        "def save_best_model(model, optimizer, epoch, loss, filename):\n",
        "    print(f\"Saving model at epoch {epoch} with accuracy {loss}\")\n",
        "    torch.save(\n",
        "        {\n",
        "            \"model_state_dict\": model.cpu().state_dict(),\n",
        "            \"optimizer_state_dict\": optimizer.state_dict(),\n",
        "            \"epoch\": epoch,\n",
        "            \"loss\": loss,\n",
        "        },\n",
        "        filename,\n",
        "    )\n",
        "    model.to(device)\n",
        "\n",
        "\n",
        "def trainer(model, epochs, train_loader, val_loader, model_name=\"classification_model.pth\"):\n",
        "    criterion = nn.CrossEntropyLoss()\n",
        "    optimizer = torch.optim.Adam(model.parameters(), lr=0.0001)\n",
        "    best_accuracy = 0\n",
        "    for epoch in range(epochs):\n",
        "        model.train()\n",
        "        total_loss = 0\n",
        "        for i, (x, y) in enumerate(train_loader):\n",
        "            x, y = x.to(device), y.to(device)\n",
        "            optimizer.zero_grad()\n",
        "            y_pred = model(x)\n",
        "            loss = criterion(y_pred, y)\n",
        "            total_loss += loss.item()\n",
        "            loss.backward()\n",
        "            optimizer.step()\n",
        "        print(f\"Epoch: {epoch}, Loss: {total_loss/len(train_loader)}\")\n",
        "\n",
        "        model.eval()\n",
        "        with torch.no_grad():\n",
        "            total = 0\n",
        "            correct = 0\n",
        "            for i, (x, y) in enumerate(val_loader):\n",
        "                x, y = x.to(device), y.to(device)\n",
        "                y_pred = model(x)\n",
        "                _, predicted = torch.max(y_pred, 1)\n",
        "                total += y.size(0)\n",
        "                correct += (predicted == y).sum().item()\n",
        "            print(f\"Epoch: {epoch}, Validation Accuracy: {correct / total}\")\n",
        "            if correct / total > best_accuracy:\n",
        "                best_accuracy = correct / total\n",
        "                save_best_model(\n",
        "                    model, optimizer, epoch, best_accuracy, model_name\n",
        "                )\n",
        "\n",
        "def evaluate(model, val_loader):\n",
        "    model.eval()\n",
        "    with torch.no_grad():\n",
        "        total = 0\n",
        "        correct = 0\n",
        "        for i, (x, y) in enumerate(val_loader):\n",
        "            x, y = x.to(device), y.to(device)\n",
        "            y_pred = model(x)\n",
        "            _, predicted = torch.max(y_pred, 1)\n",
        "            total += y.size(0)\n",
        "            correct += (predicted == y).sum().item()\n",
        "        print(f\"Accuracy: {correct / total}\")"
      ]
    },
    {
      "cell_type": "markdown",
      "metadata": {
        "id": "-vjQ3I_kiECw"
      },
      "source": [
        "## Load the data"
      ]
    },
    {
      "cell_type": "code",
      "execution_count": null,
      "metadata": {
        "colab": {
          "base_uri": "https://localhost:8080/"
        },
        "id": "94_Q5H50iECw",
        "outputId": "de18fe39-d636-4547-f643-ad5f258648e8"
      },
      "outputs": [
        {
          "output_type": "stream",
          "name": "stdout",
          "text": [
            "Files already downloaded and verified\n",
            "Files already downloaded and verified\n"
          ]
        }
      ],
      "source": [
        "# For exercise 1.3\n",
        "import torchvision.transforms as transforms\n",
        "\n",
        "transform = transforms.Compose([\n",
        "    transforms.ToTensor(),\n",
        "    # transforms.RandomHorizontalFlip(),\n",
        "    # transforms.RandomVerticalFlip(),\n",
        "    # transforms.RandomRotation(90),\n",
        "    # transforms.ColorJitter()\n",
        "    ])\n",
        "\n",
        "\n",
        "train_classification_dataset = CIFAR10(\"./data\", download=True, transform=transform)\n",
        "train_classification_loader = DataLoader(\n",
        "    train_classification_dataset, batch_size=32, shuffle=True\n",
        ")\n",
        "\n",
        "validation_classification_dataset = CIFAR10(\n",
        "    \"./data\", download=True, transform=transform, train=False\n",
        ")\n",
        "validation_classification_loader = DataLoader(\n",
        "    validation_classification_dataset, batch_size=32, shuffle=False\n",
        ")"
      ]
    },
    {
      "cell_type": "markdown",
      "metadata": {
        "id": "BC4O_xdziECw"
      },
      "source": [
        "## Train model"
      ]
    },
    {
      "cell_type": "code",
      "execution_count": null,
      "metadata": {
        "colab": {
          "base_uri": "https://localhost:8080/"
        },
        "id": "VVL3k3vpiECx",
        "outputId": "af15eafa-6459-4f3e-9c78-f6eac0ae0449"
      },
      "outputs": [
        {
          "output_type": "stream",
          "name": "stdout",
          "text": [
            "Epoch: 0, Loss: 1.7825390793006541\n",
            "Epoch: 0, Validation Accuracy: 0.4433\n",
            "Saving model at epoch 0 with accuracy 0.4433\n",
            "Epoch: 1, Loss: 1.4759778388402283\n",
            "Epoch: 1, Validation Accuracy: 0.5028\n",
            "Saving model at epoch 1 with accuracy 0.5028\n",
            "Epoch: 2, Loss: 1.3502709624939673\n",
            "Epoch: 2, Validation Accuracy: 0.5411\n",
            "Saving model at epoch 2 with accuracy 0.5411\n",
            "Epoch: 3, Loss: 1.2632217236764143\n",
            "Epoch: 3, Validation Accuracy: 0.574\n",
            "Saving model at epoch 3 with accuracy 0.574\n",
            "Epoch: 4, Loss: 1.1923352714082178\n",
            "Epoch: 4, Validation Accuracy: 0.5839\n",
            "Saving model at epoch 4 with accuracy 0.5839\n",
            "Epoch: 5, Loss: 1.1322832988075773\n",
            "Epoch: 5, Validation Accuracy: 0.597\n",
            "Saving model at epoch 5 with accuracy 0.597\n",
            "Epoch: 6, Loss: 1.079333047834788\n",
            "Epoch: 6, Validation Accuracy: 0.6112\n",
            "Saving model at epoch 6 with accuracy 0.6112\n",
            "Epoch: 7, Loss: 1.0368360036928075\n",
            "Epoch: 7, Validation Accuracy: 0.6302\n",
            "Saving model at epoch 7 with accuracy 0.6302\n",
            "Epoch: 8, Loss: 0.9988607744223326\n",
            "Epoch: 8, Validation Accuracy: 0.6455\n",
            "Saving model at epoch 8 with accuracy 0.6455\n",
            "Epoch: 9, Loss: 0.9607682302451179\n",
            "Epoch: 9, Validation Accuracy: 0.6546\n",
            "Saving model at epoch 9 with accuracy 0.6546\n"
          ]
        }
      ],
      "source": [
        "model = ClassificationModel(10).to(device)\n",
        "trainer(\n",
        "    model,\n",
        "    epochs=10, # If is needed increase the number of epochs\n",
        "    train_loader=train_classification_loader,\n",
        "    val_loader=validation_classification_loader,\n",
        ")"
      ]
    },
    {
      "cell_type": "markdown",
      "metadata": {
        "id": "RvMUowtoiECx"
      },
      "source": [
        "## Evaluate model"
      ]
    },
    {
      "cell_type": "code",
      "execution_count": null,
      "metadata": {
        "colab": {
          "base_uri": "https://localhost:8080/"
        },
        "id": "YSYP9sCmiECx",
        "outputId": "84cf15cc-a3b4-4def-b4f8-6e5c40076b9e"
      },
      "outputs": [
        {
          "output_type": "stream",
          "name": "stdout",
          "text": [
            "Accuracy: 0.6546\n"
          ]
        }
      ],
      "source": [
        "model = ClassificationModel(10).to(device)\n",
        "checkpoint = torch.load(\"classification_model.pth\")\n",
        "model.load_state_dict(checkpoint[\"model_state_dict\"])\n",
        "evaluate(model, validation_classification_loader)"
      ]
    },
    {
      "cell_type": "code",
      "source": [],
      "metadata": {
        "id": "xOmDZeobqQmA"
      },
      "execution_count": null,
      "outputs": []
    }
  ],
  "metadata": {
    "kernelspec": {
      "display_name": "Python 3",
      "name": "python3"
    },
    "language_info": {
      "codemirror_mode": {
        "name": "ipython",
        "version": 3
      },
      "file_extension": ".py",
      "mimetype": "text/x-python",
      "name": "python",
      "nbconvert_exporter": "python",
      "pygments_lexer": "ipython3",
      "version": "3.8.10"
    },
    "colab": {
      "provenance": []
    }
  },
  "nbformat": 4,
  "nbformat_minor": 0
}