{
  "cells": [
    {
      "cell_type": "markdown",
      "metadata": {
        "id": "_zIu-_GCt4g6"
      },
      "source": [
        "# Exercise 2: Image denoising"
      ]
    },
    {
      "cell_type": "code",
      "execution_count": 1,
      "metadata": {
        "id": "0mmlkkMBt4g8"
      },
      "outputs": [],
      "source": [
        "from torch import nn\n",
        "import torch\n",
        "import torchvision\n",
        "import numpy as np\n",
        "from torchvision.datasets import FashionMNIST\n",
        "from torch.utils.data import DataLoader\n",
        "\n",
        "# Uncomment the device you want to use\n",
        "# device = 'cpu'\n",
        "device = 'cuda'\n",
        "# device = 'mps'"
      ]
    },
    {
      "cell_type": "markdown",
      "metadata": {
        "id": "w8eBK0lDt4g-"
      },
      "source": [
        "## Data loading"
      ]
    },
    {
      "cell_type": "code",
      "execution_count": 2,
      "metadata": {
        "colab": {
          "base_uri": "https://localhost:8080/"
        },
        "id": "zRFLrzdgt4g-",
        "outputId": "a5e13858-44eb-4cdb-ce3c-4a600c4ef254"
      },
      "outputs": [
        {
          "name": "stdout",
          "output_type": "stream",
          "text": [
            "Downloading http://fashion-mnist.s3-website.eu-central-1.amazonaws.com/train-images-idx3-ubyte.gz\n",
            "Downloading http://fashion-mnist.s3-website.eu-central-1.amazonaws.com/train-images-idx3-ubyte.gz to ./data/FashionMNIST/raw/train-images-idx3-ubyte.gz\n"
          ]
        },
        {
          "name": "stderr",
          "output_type": "stream",
          "text": [
            "100%|██████████| 26421880/26421880 [00:11<00:00, 2294311.56it/s]\n"
          ]
        },
        {
          "name": "stdout",
          "output_type": "stream",
          "text": [
            "Extracting ./data/FashionMNIST/raw/train-images-idx3-ubyte.gz to ./data/FashionMNIST/raw\n",
            "\n",
            "Downloading http://fashion-mnist.s3-website.eu-central-1.amazonaws.com/train-labels-idx1-ubyte.gz\n",
            "Downloading http://fashion-mnist.s3-website.eu-central-1.amazonaws.com/train-labels-idx1-ubyte.gz to ./data/FashionMNIST/raw/train-labels-idx1-ubyte.gz\n"
          ]
        },
        {
          "name": "stderr",
          "output_type": "stream",
          "text": [
            "100%|██████████| 29515/29515 [00:00<00:00, 138723.94it/s]\n"
          ]
        },
        {
          "name": "stdout",
          "output_type": "stream",
          "text": [
            "Extracting ./data/FashionMNIST/raw/train-labels-idx1-ubyte.gz to ./data/FashionMNIST/raw\n",
            "\n",
            "Downloading http://fashion-mnist.s3-website.eu-central-1.amazonaws.com/t10k-images-idx3-ubyte.gz\n",
            "Downloading http://fashion-mnist.s3-website.eu-central-1.amazonaws.com/t10k-images-idx3-ubyte.gz to ./data/FashionMNIST/raw/t10k-images-idx3-ubyte.gz\n"
          ]
        },
        {
          "name": "stderr",
          "output_type": "stream",
          "text": [
            "100%|██████████| 4422102/4422102 [00:01<00:00, 2736010.99it/s]\n"
          ]
        },
        {
          "name": "stdout",
          "output_type": "stream",
          "text": [
            "Extracting ./data/FashionMNIST/raw/t10k-images-idx3-ubyte.gz to ./data/FashionMNIST/raw\n",
            "\n",
            "Downloading http://fashion-mnist.s3-website.eu-central-1.amazonaws.com/t10k-labels-idx1-ubyte.gz\n",
            "Downloading http://fashion-mnist.s3-website.eu-central-1.amazonaws.com/t10k-labels-idx1-ubyte.gz to ./data/FashionMNIST/raw/t10k-labels-idx1-ubyte.gz\n"
          ]
        },
        {
          "name": "stderr",
          "output_type": "stream",
          "text": [
            "100%|██████████| 5148/5148 [00:00<00:00, 23019485.07it/s]"
          ]
        },
        {
          "name": "stdout",
          "output_type": "stream",
          "text": [
            "Extracting ./data/FashionMNIST/raw/t10k-labels-idx1-ubyte.gz to ./data/FashionMNIST/raw\n",
            "\n"
          ]
        },
        {
          "name": "stderr",
          "output_type": "stream",
          "text": [
            "\n"
          ]
        }
      ],
      "source": [
        "transform = torchvision.transforms.Compose([torchvision.transforms.ToTensor()])\n",
        "\n",
        "train_reconstruction_dataset = FashionMNIST(\n",
        "    \"./data\", download=True, transform=transform, train=True\n",
        ")\n",
        "train_reconstruction_loader = DataLoader(\n",
        "    train_reconstruction_dataset, batch_size=64, shuffle=True\n",
        ")\n",
        "\n",
        "validation_reconstruction_dataset = FashionMNIST(\n",
        "    \"./data\", download=True, transform=transform, train=False\n",
        ")\n",
        "validation_reconstruction_loader = DataLoader(\n",
        "    train_reconstruction_dataset, batch_size=64, shuffle=False\n",
        ")"
      ]
    },
    {
      "cell_type": "markdown",
      "metadata": {
        "id": "R2SIrRuLt4g_"
      },
      "source": [
        "## Base model definition"
      ]
    },
    {
      "cell_type": "code",
      "execution_count": 3,
      "metadata": {
        "id": "iQV0kyygt4g_"
      },
      "outputs": [],
      "source": [
        "class ReconstructionModel(nn.Module):\n",
        "    def __init__(self, channels=1, height=28, width=28):\n",
        "        super(ReconstructionModel, self).__init__()\n",
        "        self.crop = torchvision.transforms.CenterCrop((height, width))\n",
        "        self.encoder = nn.Sequential(\n",
        "            nn.Conv2d(channels, 32, 3, padding=\"same\", padding_mode=\"replicate\"),\n",
        "            nn.SiLU(),\n",
        "            nn.MaxPool2d(2, padding=1),\n",
        "            nn.Conv2d(32, 16, 3, padding=\"same\", padding_mode=\"replicate\"),\n",
        "            nn.SiLU(),\n",
        "            nn.MaxPool2d(2, padding=1),\n",
        "            nn.Conv2d(16, 8, 3, padding=\"same\", padding_mode=\"replicate\"),\n",
        "            nn.SiLU(),\n",
        "        )\n",
        "\n",
        "        self.decoder = nn.Sequential(\n",
        "            nn.Conv2d(8, 16, 3, padding=\"same\", padding_mode=\"replicate\"),\n",
        "            nn.SiLU(),\n",
        "            nn.Upsample(scale_factor=2, mode=\"bilinear\"),\n",
        "            nn.Conv2d(16, 32, 3, padding=\"same\", padding_mode=\"replicate\"),\n",
        "            nn.SiLU(),\n",
        "            nn.Upsample(scale_factor=2, mode=\"bilinear\"),\n",
        "            nn.Conv2d(32, channels, 3, padding=\"same\", padding_mode=\"replicate\"),\n",
        "            nn.SiLU(),\n",
        "            nn.Conv2d(channels, channels, 3, padding=\"same\", padding_mode=\"replicate\"),\n",
        "        )\n",
        "\n",
        "        self.init_weights()\n",
        "\n",
        "    def init_weights(self):\n",
        "        for m in self.modules():\n",
        "            if isinstance(m, nn.Conv2d) or isinstance(m, nn.ConvTranspose2d):\n",
        "                nn.init.kaiming_normal_(m.weight)\n",
        "                if m.bias is not None:\n",
        "                    nn.init.zeros_(m.bias)\n",
        "\n",
        "    def forward(self, x):\n",
        "        x = self.encoder(x)\n",
        "        x = self.decoder(x)\n",
        "        return torch.clip(self.crop(x), 0, 1)"
      ]
    },
    {
      "cell_type": "markdown",
      "metadata": {
        "id": "WKFSrpvNt4hA"
      },
      "source": [
        "### PSNR metric"
      ]
    },
    {
      "cell_type": "code",
      "execution_count": 4,
      "metadata": {
        "id": "zQ6SaXcnt4hA"
      },
      "outputs": [],
      "source": [
        "import torch.nn.functional as F\n",
        "\n",
        "def psnr(y_pred, y):\n",
        "    mse = F.mse_loss(y_pred, y)\n",
        "    if mse == 0:\n",
        "        return float('inf')\n",
        "    max_pixel = 1.0  # Since the images are normalized to [0, 1]\n",
        "    psnr_value = 20 * torch.log10(max_pixel / torch.sqrt(mse))\n",
        "    return psnr_value.item()"
      ]
    },
    {
      "cell_type": "markdown",
      "metadata": {
        "id": "Eyd3env_t4hB"
      },
      "source": [
        "### SSIM metric"
      ]
    },
    {
      "cell_type": "code",
      "execution_count": 5,
      "metadata": {
        "id": "bg4shUoRt4hB"
      },
      "outputs": [],
      "source": [
        "import torch\n",
        "import torch.nn.functional as F\n",
        "\n",
        "def gaussian(window_size, sigma):\n",
        "    gauss = torch.tensor([np.exp(-(x - window_size // 2) ** 2 / (2 * sigma ** 2)) for x in range(window_size)])\n",
        "    return gauss / gauss.sum()\n",
        "\n",
        "def create_window(window_size, channel):\n",
        "    _1D_window = gaussian(window_size, 1.5).unsqueeze(1)\n",
        "    _2D_window = _1D_window.mm(_1D_window.t()).float().unsqueeze(0).unsqueeze(0)\n",
        "    window = _2D_window.expand(channel, 1, window_size, window_size).contiguous()\n",
        "    return window\n",
        "\n",
        "def ssim(y_pred, y, window_size=11, C1=np.square(0.01), C2=np.square(0.032)):\n",
        "    channel = y.size(1)\n",
        "    window = create_window(window_size, channel).to(y.device)\n",
        "\n",
        "    mu1 = F.conv2d(y_pred, window, padding=window_size//2, groups=channel)\n",
        "    mu2 = F.conv2d(y, window, padding=window_size//2, groups=channel)\n",
        "\n",
        "    mu1_sq = mu1 ** 2\n",
        "    mu2_sq = mu2 ** 2\n",
        "    mu1_mu2 = mu1 * mu2\n",
        "\n",
        "    sigma1_sq = F.conv2d(y_pred * y_pred, window, padding=window_size//2, groups=channel) - mu1_sq\n",
        "    sigma2_sq = F.conv2d(y * y, window, padding=window_size//2, groups=channel) - mu2_sq\n",
        "    sigma12 = F.conv2d(y_pred * y, window, padding=window_size//2, groups=channel) - mu1_mu2\n",
        "\n",
        "    ssim_map = ((2 * mu1_mu2 + C1) * (2 * sigma12 + C2)) / ((mu1_sq + mu2_sq + C1) * (sigma1_sq + sigma2_sq + C2))\n",
        "    return ssim_map.mean()"
      ]
    },
    {
      "cell_type": "markdown",
      "metadata": {
        "id": "VonsmgXVt4hB"
      },
      "source": [
        "## Model trainer"
      ]
    },
    {
      "cell_type": "code",
      "execution_count": 8,
      "metadata": {
        "id": "7gLZz4xHt4hC"
      },
      "outputs": [],
      "source": [
        "import matplotlib.pyplot as plt\n",
        "\n",
        "def ssim_and_psnr(y_pred, y):\n",
        "    return ssim(y_pred, y), psnr(y_pred, y)\n",
        "\n",
        "def trainer(\n",
        "    model,\n",
        "    epochs,\n",
        "    train_loader,\n",
        "    val_loader,\n",
        "    criterion,\n",
        "):\n",
        "    optimizer = torch.optim.Adam(model.parameters(), lr=0.0002)\n",
        "    for epoch in range(epochs):\n",
        "        model.train()\n",
        "        total_loss = 0\n",
        "        for i, (y, _) in enumerate(train_loader):\n",
        "            y = y.to(device)\n",
        "            x = torch.clip(y + 0.2 * torch.randn_like(y), 0, 1)\n",
        "            optimizer.zero_grad()\n",
        "            y_pred = model(x)\n",
        "            loss = criterion(y_pred, y)\n",
        "            total_loss += loss.item()\n",
        "            loss.backward()\n",
        "            optimizer.step()\n",
        "            optimizer.step()\n",
        "            # Visualization HERE\n",
        "            if epoch == 0 or epoch == epochs // 2 or epoch == epochs - 1:\n",
        "                if i == 0:\n",
        "                    fig, axes = plt.subplots(1, 3, figsize=(10, 3))\n",
        "                    axes[0].imshow(y[0].squeeze().cpu().numpy(), cmap='gray')\n",
        "                    axes[0].set_title('Original')\n",
        "                    axes[0].axis('off')\n",
        "                    axes[1].imshow(x[0].squeeze().cpu().numpy(), cmap='gray')\n",
        "                    axes[1].set_title('Noisy')\n",
        "                    axes[1].axis('off')\n",
        "                    axes[2].imshow(y_pred[0].squeeze().cpu().detach().numpy(), cmap='gray')\n",
        "                    axes[2].set_title('Denoised')\n",
        "                    axes[2].axis('off')\n",
        "                    plt.show()\n",
        "        print(f\"Epoch: {epoch}, Loss: {total_loss/len(train_loader)}\")\n",
        "\n",
        "        model.eval()\n",
        "        with torch.no_grad():\n",
        "            psnr_metrics, ssim_metrics = 0, 0\n",
        "            for i, (y, _) in enumerate(val_loader):\n",
        "                y = y.to(device)\n",
        "                x = torch.clip(y + 0.2 * torch.randn_like(y), 0, 1)\n",
        "                y_pred = model(x)\n",
        "                metrics = ssim_and_psnr(y_pred, y)\n",
        "                ssim_metrics += metrics[0]\n",
        "                psnr_metrics += metrics[1]\n",
        "                # TODO: Add here the visualization of the images\n",
        "            print(\n",
        "                f\"Epoch: {epoch}, SSIM: {ssim_metrics/len(val_loader)}, PSNR: {psnr_metrics/len(val_loader)}\"\n",
        "            )"
      ]
    },
    {
      "cell_type": "code",
      "execution_count": 9,
      "metadata": {
        "colab": {
          "base_uri": "https://localhost:8080/",
          "height": 1000
        },
        "id": "S6Pot2WPt4hC",
        "outputId": "5cac74cf-cea5-427a-e69c-19bd248d14a3"
      },
      "outputs": [
        {
          "data": {
            "image/png": "[encoded data removed]",
            "text/plain": [
              "<Figure size 1000x300 with 3 Axes>"
            ]
          },
          "metadata": {},
          "output_type": "display_data"
        },
        {
          "name": "stdout",
          "output_type": "stream",
          "text": [
            "Epoch: 0, Loss: 0.041638618444344765\n",
            "Epoch: 0, SSIM: 0.7181583046913147, PSNR: 17.498392953038977\n",
            "Epoch: 1, Loss: 0.015865803812382253\n",
            "Epoch: 1, SSIM: 0.7556454539299011, PSNR: 18.40082972390311\n",
            "Epoch: 2, Loss: 0.014038000406741078\n",
            "Epoch: 2, SSIM: 0.7677809000015259, PSNR: 18.758582493389593\n",
            "Epoch: 3, Loss: 0.01304524024126372\n",
            "Epoch: 3, SSIM: 0.778484046459198, PSNR: 19.048364185829406\n",
            "Epoch: 4, Loss: 0.012383592223673105\n",
            "Epoch: 4, SSIM: 0.7852070331573486, PSNR: 19.239660574174895\n",
            "Epoch: 5, Loss: 0.011893709931872103\n",
            "Epoch: 5, SSIM: 0.789790689945221, PSNR: 19.40146901104242\n",
            "Epoch: 6, Loss: 0.011469426299772982\n",
            "Epoch: 6, SSIM: 0.793904185295105, PSNR: 19.49434388776832\n",
            "Epoch: 7, Loss: 0.011126824222735442\n",
            "Epoch: 7, SSIM: 0.7990219593048096, PSNR: 19.526053711295383\n",
            "Epoch: 8, Loss: 0.010837119430112941\n",
            "Epoch: 8, SSIM: 0.8048717379570007, PSNR: 19.761502316765693\n",
            "Epoch: 9, Loss: 0.010579227612836401\n",
            "Epoch: 9, SSIM: 0.8061527609825134, PSNR: 19.859654229332897\n",
            "Epoch: 10, Loss: 0.010358986199529631\n",
            "Epoch: 10, SSIM: 0.8089465498924255, PSNR: 19.955026624553494\n",
            "Epoch: 11, Loss: 0.010149269591151143\n",
            "Epoch: 11, SSIM: 0.810903012752533, PSNR: 20.008051868186577\n",
            "Epoch: 12, Loss: 0.009975470846761137\n",
            "Epoch: 12, SSIM: 0.8147298097610474, PSNR: 20.08102055653326\n",
            "Epoch: 13, Loss: 0.009837977933699388\n",
            "Epoch: 13, SSIM: 0.8153753876686096, PSNR: 20.138131011523672\n",
            "Epoch: 14, Loss: 0.009686789104043803\n",
            "Epoch: 14, SSIM: 0.8166182637214661, PSNR: 20.18981083217206\n",
            "Epoch: 15, Loss: 0.009586984396918114\n",
            "Epoch: 15, SSIM: 0.8180240988731384, PSNR: 20.20761353832318\n",
            "Epoch: 16, Loss: 0.009483074831432785\n",
            "Epoch: 16, SSIM: 0.8208478093147278, PSNR: 20.266721082902922\n",
            "Epoch: 17, Loss: 0.00937235706410349\n",
            "Epoch: 17, SSIM: 0.8212214112281799, PSNR: 20.26401291625586\n",
            "Epoch: 18, Loss: 0.009284026735126655\n",
            "Epoch: 18, SSIM: 0.8256862163543701, PSNR: 20.387286304156664\n",
            "Epoch: 19, Loss: 0.009203929531036504\n",
            "Epoch: 19, SSIM: 0.8233410716056824, PSNR: 20.3766963425984\n",
            "Epoch: 20, Loss: 0.009119322207738468\n",
            "Epoch: 20, SSIM: 0.8259441256523132, PSNR: 20.429064366354872\n",
            "Epoch: 21, Loss: 0.009044024629641507\n",
            "Epoch: 21, SSIM: 0.8284112811088562, PSNR: 20.462808968924257\n",
            "Epoch: 22, Loss: 0.008987781407037524\n",
            "Epoch: 22, SSIM: 0.8281944990158081, PSNR: 20.340052246793245\n",
            "Epoch: 23, Loss: 0.00889849677723624\n",
            "Epoch: 23, SSIM: 0.8253945112228394, PSNR: 20.502099582127162\n",
            "Epoch: 24, Loss: 0.00884067743017809\n",
            "Epoch: 24, SSIM: 0.8298777341842651, PSNR: 20.51080494903044\n"
          ]
        },
        {
          "data": {
            "image/png": "[encoded data removed]",
            "text/plain": [
              "<Figure size 1000x300 with 3 Axes>"
            ]
          },
          "metadata": {},
          "output_type": "display_data"
        },
        {
          "name": "stdout",
          "output_type": "stream",
          "text": [
            "Epoch: 25, Loss: 0.008781572117277587\n",
            "Epoch: 25, SSIM: 0.8287832736968994, PSNR: 20.539666070104406\n",
            "Epoch: 26, Loss: 0.008720429479154442\n",
            "Epoch: 26, SSIM: 0.8317593336105347, PSNR: 20.581989878022085\n",
            "Epoch: 27, Loss: 0.008662047571063772\n",
            "Epoch: 27, SSIM: 0.8335142731666565, PSNR: 20.696215932557323\n",
            "Epoch: 28, Loss: 0.008618252861724575\n",
            "Epoch: 28, SSIM: 0.8332129716873169, PSNR: 20.65663835488911\n",
            "Epoch: 29, Loss: 0.008560214911017622\n",
            "Epoch: 29, SSIM: 0.8353395462036133, PSNR: 20.750654753337283\n",
            "Epoch: 30, Loss: 0.008539587466308335\n",
            "Epoch: 30, SSIM: 0.834194004535675, PSNR: 20.75600364416647\n",
            "Epoch: 31, Loss: 0.008486817659401118\n",
            "Epoch: 31, SSIM: 0.8352645635604858, PSNR: 20.686823987249117\n",
            "Epoch: 32, Loss: 0.008457126948775958\n",
            "Epoch: 32, SSIM: 0.8363686800003052, PSNR: 20.794843960418376\n",
            "Epoch: 33, Loss: 0.008398276888259025\n",
            "Epoch: 33, SSIM: 0.8341039419174194, PSNR: 20.69714984202436\n",
            "Epoch: 34, Loss: 0.008379484508444729\n",
            "Epoch: 34, SSIM: 0.8378798365592957, PSNR: 20.83391389867136\n",
            "Epoch: 35, Loss: 0.008350541034260634\n",
            "Epoch: 35, SSIM: 0.8388151526451111, PSNR: 20.7915642886782\n",
            "Epoch: 36, Loss: 0.008313943838466332\n",
            "Epoch: 36, SSIM: 0.837843656539917, PSNR: 20.847623831173504\n",
            "Epoch: 37, Loss: 0.008276902538325106\n",
            "Epoch: 37, SSIM: 0.8380704522132874, PSNR: 20.859946440023656\n",
            "Epoch: 38, Loss: 0.00826023614256462\n",
            "Epoch: 38, SSIM: 0.836944043636322, PSNR: 20.789030451256075\n",
            "Epoch: 39, Loss: 0.008229988425084428\n",
            "Epoch: 39, SSIM: 0.8382281064987183, PSNR: 20.89026743516739\n",
            "Epoch: 40, Loss: 0.008202923848522085\n",
            "Epoch: 40, SSIM: 0.83948814868927, PSNR: 20.884048939767933\n",
            "Epoch: 41, Loss: 0.008182805974278718\n",
            "Epoch: 41, SSIM: 0.8401323556900024, PSNR: 20.90603353219754\n",
            "Epoch: 42, Loss: 0.008156452782209844\n",
            "Epoch: 42, SSIM: 0.8420372009277344, PSNR: 20.956862016527385\n",
            "Epoch: 43, Loss: 0.00814283650511427\n",
            "Epoch: 43, SSIM: 0.8416650891304016, PSNR: 20.940925919425005\n",
            "Epoch: 44, Loss: 0.008113351113387325\n",
            "Epoch: 44, SSIM: 0.8430582284927368, PSNR: 20.943067085005836\n",
            "Epoch: 45, Loss: 0.008089641971426255\n",
            "Epoch: 45, SSIM: 0.8409955501556396, PSNR: 20.910971769646032\n",
            "Epoch: 46, Loss: 0.008071257340620513\n",
            "Epoch: 46, SSIM: 0.8427199721336365, PSNR: 20.974650553802945\n",
            "Epoch: 47, Loss: 0.008053530713539325\n",
            "Epoch: 47, SSIM: 0.8415905833244324, PSNR: 20.9454444344364\n",
            "Epoch: 48, Loss: 0.00803434193483802\n",
            "Epoch: 48, SSIM: 0.8417657017707825, PSNR: 20.95779468560778\n"
          ]
        },
        {
          "data": {
            "image/png": "[encoded data removed]",
            "text/plain": [
              "<Figure size 1000x300 with 3 Axes>"
            ]
          },
          "metadata": {},
          "output_type": "display_data"
        },
        {
          "name": "stdout",
          "output_type": "stream",
          "text": [
            "Epoch: 49, Loss: 0.008014555420301585\n",
            "Epoch: 49, SSIM: 0.8431200385093689, PSNR: 21.03824654113509\n"
          ]
        }
      ],
      "source": [
        "criterion = nn.MSELoss()\n",
        "model = ReconstructionModel().to(device)\n",
        "trainer(\n",
        "    model,\n",
        "    50,\n",
        "    train_reconstruction_loader,\n",
        "    validation_reconstruction_loader,\n",
        "    criterion,\n",
        ")"
      ]
    },
    {
      "cell_type": "code",
      "execution_count": 10,
      "metadata": {
        "id": "Okgvm6Vit4hD"
      },
      "outputs": [],
      "source": [
        "class ReconstructionModelConvTranspose(ReconstructionModel):\n",
        "    def __init__(self, channels=1, height=28, width=28):\n",
        "        super(ReconstructionModelConvTranspose, self).__init__(channels, height, width)\n",
        "\n",
        "        self.decoder = nn.Sequential(\n",
        "            nn.ConvTranspose2d(8, 16, kernel_size=3, stride=2, padding=1, output_padding=1),  # Upsampling\n",
        "            nn.SiLU(),\n",
        "            nn.ConvTranspose2d(16, 32, kernel_size=3, stride=2, padding=1, output_padding=1),  # Upsampling\n",
        "            nn.SiLU(),\n",
        "            nn.Conv2d(32, channels, kernel_size=3, padding=1) #final convolution\n",
        "        )\n",
        "        self.init_weights()\n",
        "\n",
        "    def forward(self, x):\n",
        "        x = self.encoder(x)\n",
        "        x = self.decoder(x)\n",
        "        return torch.clip(self.crop(x), 0, 1)\n"
      ]
    },
    {
      "cell_type": "code",
      "execution_count": 11,
      "metadata": {
        "colab": {
          "base_uri": "https://localhost:8080/",
          "height": 1000
        },
        "id": "wU_RmG55t4hD",
        "outputId": "7ccf88f2-fa8a-4af3-a9cd-22bfb7027951"
      },
      "outputs": [
        {
          "data": {
            "image/png": "[encoded data removed]",
            "text/plain": [
              "<Figure size 1000x300 with 3 Axes>"
            ]
          },
          "metadata": {},
          "output_type": "display_data"
        },
        {
          "name": "stdout",
          "output_type": "stream",
          "text": [
            "Epoch: 0, Loss: 0.023626221205864443\n",
            "Epoch: 0, SSIM: 0.7462561726570129, PSNR: 18.37673704151406\n",
            "Epoch: 1, Loss: 0.012763164515521671\n",
            "Epoch: 1, SSIM: 0.784028172492981, PSNR: 19.349053580115346\n",
            "Epoch: 2, Loss: 0.011135262953463013\n",
            "Epoch: 2, SSIM: 0.7994385957717896, PSNR: 19.779517934266437\n",
            "Epoch: 3, Loss: 0.010273629692254036\n",
            "Epoch: 3, SSIM: 0.8095331788063049, PSNR: 20.04431914673177\n",
            "Epoch: 4, Loss: 0.00970873930183714\n",
            "Epoch: 4, SSIM: 0.8173457980155945, PSNR: 20.291740022996848\n",
            "Epoch: 5, Loss: 0.009277021123676189\n",
            "Epoch: 5, SSIM: 0.8220394253730774, PSNR: 20.383537516156746\n",
            "Epoch: 6, Loss: 0.008991386048368681\n",
            "Epoch: 6, SSIM: 0.8241459131240845, PSNR: 20.451702699478247\n",
            "Epoch: 7, Loss: 0.00874660869013828\n",
            "Epoch: 7, SSIM: 0.8303608894348145, PSNR: 20.693060754967142\n",
            "Epoch: 8, Loss: 0.008566121890473722\n",
            "Epoch: 8, SSIM: 0.8321378827095032, PSNR: 20.743091941134\n",
            "Epoch: 9, Loss: 0.00839512060080637\n",
            "Epoch: 9, SSIM: 0.8346716165542603, PSNR: 20.838384408686462\n",
            "Epoch: 10, Loss: 0.008272783544812121\n",
            "Epoch: 10, SSIM: 0.8364077210426331, PSNR: 20.871019208863345\n",
            "Epoch: 11, Loss: 0.008152253878142026\n",
            "Epoch: 11, SSIM: 0.8391603231430054, PSNR: 20.979337409615262\n",
            "Epoch: 12, Loss: 0.008043775244105631\n",
            "Epoch: 12, SSIM: 0.8395897150039673, PSNR: 20.994752778173254\n",
            "Epoch: 13, Loss: 0.007944568237567793\n",
            "Epoch: 13, SSIM: 0.8416741490364075, PSNR: 21.065841526364974\n",
            "Epoch: 14, Loss: 0.007869113718709552\n",
            "Epoch: 14, SSIM: 0.8425207138061523, PSNR: 21.114668805461957\n",
            "Epoch: 15, Loss: 0.007798036009863591\n",
            "Epoch: 15, SSIM: 0.8431713581085205, PSNR: 21.107240987993254\n",
            "Epoch: 16, Loss: 0.007733604655777817\n",
            "Epoch: 16, SSIM: 0.843388020992279, PSNR: 21.17420462504633\n",
            "Epoch: 17, Loss: 0.007680841769252632\n",
            "Epoch: 17, SSIM: 0.8430554866790771, PSNR: 21.17166632426573\n",
            "Epoch: 18, Loss: 0.007621872270587029\n",
            "Epoch: 18, SSIM: 0.8464188575744629, PSNR: 21.23675421407736\n",
            "Epoch: 19, Loss: 0.007573890792670598\n",
            "Epoch: 19, SSIM: 0.8481423258781433, PSNR: 21.18719388884522\n",
            "Epoch: 20, Loss: 0.007523759052769017\n",
            "Epoch: 20, SSIM: 0.8461941480636597, PSNR: 21.22725484315266\n",
            "Epoch: 21, Loss: 0.007487919430302055\n",
            "Epoch: 21, SSIM: 0.8492382168769836, PSNR: 21.312021249392902\n",
            "Epoch: 22, Loss: 0.007449795675676451\n",
            "Epoch: 22, SSIM: 0.8497036695480347, PSNR: 21.305914317621095\n",
            "Epoch: 23, Loss: 0.007408374757158445\n",
            "Epoch: 23, SSIM: 0.8489996790885925, PSNR: 21.355508371202678\n",
            "Epoch: 24, Loss: 0.007363614223615479\n",
            "Epoch: 24, SSIM: 0.84941166639328, PSNR: 21.293790597651306\n"
          ]
        },
        {
          "data": {
            "image/png": "[encoded data removed]",
            "text/plain": [
              "<Figure size 1000x300 with 3 Axes>"
            ]
          },
          "metadata": {},
          "output_type": "display_data"
        },
        {
          "name": "stdout",
          "output_type": "stream",
          "text": [
            "Epoch: 25, Loss: 0.007337363421924905\n",
            "Epoch: 25, SSIM: 0.8514431715011597, PSNR: 21.383458389656376\n",
            "Epoch: 26, Loss: 0.007304475774297487\n",
            "Epoch: 26, SSIM: 0.8523615002632141, PSNR: 21.401998190483305\n",
            "Epoch: 27, Loss: 0.00727572865577649\n",
            "Epoch: 27, SSIM: 0.852798342704773, PSNR: 21.364656863182084\n",
            "Epoch: 28, Loss: 0.007244931056356824\n",
            "Epoch: 28, SSIM: 0.8515230417251587, PSNR: 21.374851802264704\n",
            "Epoch: 29, Loss: 0.0072140564788569774\n",
            "Epoch: 29, SSIM: 0.8538142442703247, PSNR: 21.486268891454504\n",
            "Epoch: 30, Loss: 0.0071992746724097775\n",
            "Epoch: 30, SSIM: 0.8530580997467041, PSNR: 21.424963875874273\n",
            "Epoch: 31, Loss: 0.007174271562976687\n",
            "Epoch: 31, SSIM: 0.8533148169517517, PSNR: 21.483673630492774\n",
            "Epoch: 32, Loss: 0.007133227478621452\n",
            "Epoch: 32, SSIM: 0.8514963388442993, PSNR: 21.500884668150945\n",
            "Epoch: 33, Loss: 0.007127970348356534\n",
            "Epoch: 33, SSIM: 0.8539182543754578, PSNR: 21.50626473335315\n",
            "Epoch: 34, Loss: 0.0071130184568901625\n",
            "Epoch: 34, SSIM: 0.8546218276023865, PSNR: 21.521662110204634\n",
            "Epoch: 35, Loss: 0.007080010848362118\n",
            "Epoch: 35, SSIM: 0.8542373180389404, PSNR: 21.45758606680929\n",
            "Epoch: 36, Loss: 0.007085961025101004\n",
            "Epoch: 36, SSIM: 0.8557367920875549, PSNR: 21.52473062747069\n",
            "Epoch: 37, Loss: 0.007046605986076346\n",
            "Epoch: 37, SSIM: 0.857210099697113, PSNR: 21.580790003225495\n",
            "Epoch: 38, Loss: 0.0070273197858707545\n",
            "Epoch: 38, SSIM: 0.8552916646003723, PSNR: 21.493824942533905\n",
            "Epoch: 39, Loss: 0.00701764210470831\n",
            "Epoch: 39, SSIM: 0.8554903268814087, PSNR: 21.58879892149968\n",
            "Epoch: 40, Loss: 0.00699125753660033\n",
            "Epoch: 40, SSIM: 0.8563741445541382, PSNR: 21.5729506498715\n",
            "Epoch: 41, Loss: 0.006987751583689883\n",
            "Epoch: 41, SSIM: 0.8556022644042969, PSNR: 21.5181372811291\n",
            "Epoch: 42, Loss: 0.006975801490338595\n",
            "Epoch: 42, SSIM: 0.8577183485031128, PSNR: 21.617198677713684\n",
            "Epoch: 43, Loss: 0.006950855652279437\n",
            "Epoch: 43, SSIM: 0.8586175441741943, PSNR: 21.63318057965114\n",
            "Epoch: 44, Loss: 0.0069442316100422315\n",
            "Epoch: 44, SSIM: 0.8542043566703796, PSNR: 21.572014528042725\n",
            "Epoch: 45, Loss: 0.006916739027708896\n",
            "Epoch: 45, SSIM: 0.8576105237007141, PSNR: 21.650833022111513\n",
            "Epoch: 46, Loss: 0.006915979689038765\n",
            "Epoch: 46, SSIM: 0.8572423458099365, PSNR: 21.606102890551472\n",
            "Epoch: 47, Loss: 0.006902892188206792\n",
            "Epoch: 47, SSIM: 0.8584129810333252, PSNR: 21.617864086175523\n",
            "Epoch: 48, Loss: 0.006895466040927114\n",
            "Epoch: 48, SSIM: 0.8582072257995605, PSNR: 21.64741362386675\n"
          ]
        },
        {
          "data": {
            "image/png": "[encoded data removed]",
            "text/plain": [
              "<Figure size 1000x300 with 3 Axes>"
            ]
          },
          "metadata": {},
          "output_type": "display_data"
        },
        {
          "name": "stdout",
          "output_type": "stream",
          "text": [
            "Epoch: 49, Loss: 0.0068808256148068766\n",
            "Epoch: 49, SSIM: 0.8572335243225098, PSNR: 21.669420173173265\n"
          ]
        }
      ],
      "source": [
        "model2 = ReconstructionModelConvTranspose(1, 28, 28).to(device)\n",
        "trainer(\n",
        "    model2,\n",
        "    50,\n",
        "    train_reconstruction_loader,\n",
        "    validation_reconstruction_loader,\n",
        "    criterion,\n",
        ")"
      ]
    },
    {
      "cell_type": "code",
      "execution_count": null,
      "metadata": {
        "id": "sE1BHbxLKSHQ"
      },
      "outputs": [],
      "source": []
    }
  ],
  "metadata": {
    "accelerator": "GPU",
    "colab": {
      "gpuType": "T4",
      "provenance": []
    },
    "kernelspec": {
      "display_name": "Python 3",
      "name": "python3"
    },
    "language_info": {
      "codemirror_mode": {
        "name": "ipython",
        "version": 3
      },
      "file_extension": ".py",
      "mimetype": "text/x-python",
      "name": "python",
      "nbconvert_exporter": "python",
      "pygments_lexer": "ipython3",
      "version": "3.8.10"
    }
  },
  "nbformat": 4,
  "nbformat_minor": 0
}
